{
 "cells": [
  {
   "cell_type": "code",
   "execution_count": 1,
   "metadata": {},
   "outputs": [],
   "source": [
    "import sys\n",
    "import copy\n",
    "from glob import glob\n",
    "import math\n",
    "import os\n",
    "import json \n",
    "import csv\n",
    "\n",
    "import torch\n",
    "from torch.utils.data import DataLoader\n",
    "\n",
    "import nvvl"
   ]
  },
  {
   "cell_type": "code",
   "execution_count": 2,
   "metadata": {},
   "outputs": [],
   "source": [
    "class NVVL():\n",
    "    def __init__(self, num_frames, image_shape, is_cropped, crop_size, metadata,\n",
    "                 batchsize=1, device_id=0, shuffle=False, distributed=False, fp16=False):\n",
    "        self.batchsize = batchsize\n",
    "        self.shuffle = shuffle\n",
    "        self.distributed = distributed\n",
    "        self.frames = frames\n",
    "        self.device_id = device_id\n",
    "\n",
    "        self.is_cropped = is_cropped\n",
    "        self.crop_size = crop_size\n",
    "\n",
    "        self.files = {}\n",
    "        \n",
    "        self.class_map = {}\n",
    "        self.labels = {}\n",
    "        \n",
    "        fin = open(metadata, 'r')\n",
    "        r = csv.reader(fin)\n",
    "        for row in r:\n",
    "            if row[1] not in self.class_map:\n",
    "                self.class_map[row[1]] = int(row[2])\n",
    "                \n",
    "            for frame_no in range(int(row[3]),int(row[4])+1):\n",
    "                self.labels[row[0]] = {frame_no:int(row[2])}\n",
    "            \n",
    "            if row[0] not in self.files:\n",
    "                self.files[row[0]] = 1\n",
    "            \n",
    "        fin.close()\n",
    "            \n",
    "        self.class_map['background'] = len(self.class_map.keys())\n",
    "\n",
    "        if fp16:\n",
    "            tensor_type = 'half'\n",
    "        else:\n",
    "            tensor_type = 'float'\n",
    "            \n",
    "        self.image_shape = image_shape\n",
    "        \n",
    "        height = min(self.image_shape[0], self.crop_size[0])\n",
    "        width = min(self.image_shape[1], self.crop_size[1])\n",
    "        \n",
    "        processing = {\"input\": nvvl.ProcessDesc(type=tensor_type, height=height, width=width,\n",
    "                                               random_crop=self.is_cropped, random_flip=False,\n",
    "                                               normalized=True, color_space=\"RGB\", dimension_order=\"cfhw\")}\n",
    "        \n",
    "        dataset = nvvl.VideoDataset(list(self.files.keys())[:100],\n",
    "                                   sequence_length=self.frames,\n",
    "                                   device_id=self.device_id,\n",
    "                                   processing=processing, \n",
    "                                   get_label=self.get_label)\n",
    "        \n",
    "        self.loader = nvvl.VideoLoader(dataset, batch_size=self.batchsize, shuffle=self.shuffle, distributed=self.distributed) \n",
    "        \n",
    "    def __len__(self):\n",
    "        return len(self.loader)\n",
    "    \n",
    "    def __iter__(self):\n",
    "        return iter(self.loader)\n",
    "    \n",
    "    def get_label(self, filename, frame_num, rand_changes):\n",
    "        print (filename, frame_num)\n",
    "        if frame_num in self.labels[filename]:\n",
    "            print ('here')\n",
    "            return self.labels[filename][frame_num]\n",
    "        else:\n",
    "            print ('not here')\n",
    "            return self.class_map['background']"
   ]
  },
  {
   "cell_type": "code",
   "execution_count": 3,
   "metadata": {},
   "outputs": [],
   "source": [
    "frames = 64\n",
    "is_cropped = True\n",
    "image_shape = [256, 256]\n",
    "crop_size = [224, 224]\n",
    "video_path = '../datasets/activity_net/processed_videos/'\n",
    "train_csv = '../datasets/activity_net/train.csv'\n",
    "val_csv = '../datasets/activity_net/val.csv'\n",
    "batchsize = 1\n",
    "shuffle = False\n",
    "distributed = False\n",
    "device_id = 0\n",
    "fp16 = False\n",
    "train_loader = NVVL(frames, image_shape, is_cropped, crop_size, train_csv,\n",
    "                      batchsize, shuffle, distributed, device_id, fp16)\n",
    "# val_loader = NVVL(frames, image_shape, is_cropped, crop_size, val_csv,\n",
    "#                       batchsize, shuffle, distributed, device_id, fp16)"
   ]
  },
  {
   "cell_type": "code",
   "execution_count": null,
   "metadata": {},
   "outputs": [
    {
     "name": "stdout",
     "output_type": "stream",
     "text": [
      "../datasets/activity_net/processed_videos/v_sJFgo9H6zNo.mp4 0\n",
      "not here\n",
      "../datasets/activity_net/processed_videos/v_sJFgo9H6zNo.mp4 1\n",
      "not here\n",
      "../datasets/activity_net/processed_videos/v_sJFgo9H6zNo.mp4 2\n",
      "not here\n",
      "../datasets/activity_net/processed_videos/v_sJFgo9H6zNo.mp4 3\n",
      "not here\n"
     ]
    }
   ],
   "source": [
    "i = 0\n",
    "train_iter = train_loader.__iter__()\n",
    "t = next(train_iter)\n",
    "\n",
    "# for v in val_loader:\n",
    "#     print (v['input'].size())\n",
    "#     break"
   ]
  },
  {
   "cell_type": "code",
   "execution_count": null,
   "metadata": {},
   "outputs": [],
   "source": [
    "t"
   ]
  },
  {
   "cell_type": "code",
   "execution_count": 9,
   "metadata": {},
   "outputs": [
    {
     "name": "stdout",
     "output_type": "stream",
     "text": [
      "25454\n"
     ]
    }
   ],
   "source": [
    "train_batches = len(train_loader)\n",
    "print (train_batches)"
   ]
  },
  {
   "cell_type": "code",
   "execution_count": 4,
   "metadata": {},
   "outputs": [
    {
     "data": {
      "text/plain": [
       "\u001b[0;31mInit signature:\u001b[0m \u001b[0mnvvl\u001b[0m\u001b[0;34m.\u001b[0m\u001b[0mVideoDataset\u001b[0m\u001b[0;34m(\u001b[0m\u001b[0mfilenames\u001b[0m\u001b[0;34m,\u001b[0m \u001b[0msequence_length\u001b[0m\u001b[0;34m,\u001b[0m \u001b[0mdevice_id\u001b[0m\u001b[0;34m=\u001b[0m\u001b[0;36m0\u001b[0m\u001b[0;34m,\u001b[0m \u001b[0mget_label\u001b[0m\u001b[0;34m=\u001b[0m\u001b[0;32mNone\u001b[0m\u001b[0;34m,\u001b[0m \u001b[0mprocessing\u001b[0m\u001b[0;34m=\u001b[0m\u001b[0;32mNone\u001b[0m\u001b[0;34m,\u001b[0m \u001b[0mlog_level\u001b[0m\u001b[0;34m=\u001b[0m\u001b[0;34m'warn'\u001b[0m\u001b[0;34m)\u001b[0m\u001b[0;34m\u001b[0m\u001b[0m\n",
       "\u001b[0;31mDocstring:\u001b[0m     \n",
       "VideoDataset\n",
       "\n",
       "Parameters\n",
       "----------\n",
       "filenames : collection of strings\n",
       "    list of video files to draw from\n",
       "\n",
       "sequence_length : int\n",
       "    how many frames are in each sample\n",
       "\n",
       "device_id : int, optional\n",
       "    GPU device to use (Default: 0)\n",
       "\n",
       "get_label : callable, optional\n",
       "    callable with signature:\n",
       "        (filename : str, frame_num : int) : anything\n",
       "    The returned value is simply passed as an output\n",
       "    alongside any returned frames.\n",
       "    If None, label returned is None. (Default: None)\n",
       "\n",
       "processing : dict {string -> ProcessDesc}, optional\n",
       "    Describes processing to be done on the sequence to generate\n",
       "    each data item. If None, each frame in the sequence will be\n",
       "    returned as is. (Default: None)\n",
       "\n",
       "log_level : string, optional\n",
       "    One of \"debug\", \"info\", \"warn\", \"error\", or \"none\".\n",
       "    (Default: \"warn\")\n",
       "\u001b[0;31mFile:\u001b[0m           /usr/local/lib/python3.6/dist-packages/nvvl-1.0-py3.6-linux-x86_64.egg/nvvl/dataset.py\n",
       "\u001b[0;31mType:\u001b[0m           type\n"
      ]
     },
     "metadata": {},
     "output_type": "display_data"
    }
   ],
   "source": []
  },
  {
   "cell_type": "code",
   "execution_count": 1,
   "metadata": {},
   "outputs": [],
   "source": [
    "fin = open('../datasets/activity_net/dataset.stats', 'r')\n",
    "info = {}\n",
    "this = []\n",
    "for line in fin.readlines():\n",
    "    if 'Input' in line:\n",
    "        this.append(line.split(' ')[-1][3:-3])\n",
    "    if 'Stream' in line and 'Video' in line:\n",
    "        splits = line.split(' ')\n",
    "        for split in splits:\n",
    "            if 'x' in split and ')' not in split:\n",
    "                this.append(split)\n",
    "                break \n",
    "                \n",
    "        for i in range(len(splits)):\n",
    "            if 'fps' in splits[i]:\n",
    "                this.append(splits[i-1])\n",
    "                break\n",
    "                \n",
    "        info[this[0]] = this[1:-1]\n",
    "        this = []"
   ]
  },
  {
   "cell_type": "code",
   "execution_count": 20,
   "metadata": {},
   "outputs": [
    {
     "data": {
      "text/plain": [
       "['v_sJFgo9H6zNo.mp4',\n",
       " 'v_V1zhqaGFY2A.mp4',\n",
       " 'v_JDg--pjY5gg.mp4',\n",
       " 'v_KsFid_YVsn0.mp4',\n",
       " 'v_-TmWR_keSfI.mp4',\n",
       " 'v_u2uoYvo8J5s.mp4',\n",
       " 'v_a-6rpItrRSk.mp4',\n",
       " 'v_--0edUL8zmA.mp4',\n",
       " 'v_c_NlYvL96y0.mp4',\n",
       " 'v_hHiPEAiYKv0.mp4']"
      ]
     },
     "execution_count": 20,
     "metadata": {},
     "output_type": "execute_result"
    }
   ],
   "source": [
    "list(info.keys())[:10]"
   ]
  },
  {
   "cell_type": "code",
   "execution_count": 22,
   "metadata": {},
   "outputs": [],
   "source": [
    "diff_codecs = {}\n",
    "diff_dims = {}\n",
    "diff_fps = {}\n",
    "for k in info.keys():\n",
    "    req_info = info[k]\n",
    "    if req_info[0] not in diff_codecs:\n",
    "        diff_dims[req_info[0]] = 1\n",
    "        \n",
    "    if req_info[-1]  not in diff_codecs:\n",
    "        diff_fps[req_info[-1]] = 1"
   ]
  },
  {
   "cell_type": "code",
   "execution_count": null,
   "metadata": {},
   "outputs": [],
   "source": []
  },
  {
   "cell_type": "code",
   "execution_count": 58,
   "metadata": {},
   "outputs": [],
   "source": [
    "videos = os.listdir('../datasets/activity_net/videos/')"
   ]
  },
  {
   "cell_type": "code",
   "execution_count": 65,
   "metadata": {},
   "outputs": [],
   "source": [
    "fout = open('../datasets/activity_net/process_videos.sh', 'w')\n",
    "i = 1\n",
    "for video in videos:\n",
    "    fout.write('ffmpeg -i videos/' + video +' -s 256x256 -c:a copy processed_videos/' + video + ' & \\n')\n",
    "    if i % 44 == 0:\n",
    "        fout.write('wait\\n')\n",
    "    \n",
    "    i += 1\n",
    "fout.close()"
   ]
  },
  {
   "cell_type": "code",
   "execution_count": 4,
   "metadata": {},
   "outputs": [
    {
     "data": {
      "text/plain": [
       "\u001b[0;31mInit signature:\u001b[0m \u001b[0mnvvl\u001b[0m\u001b[0;34m.\u001b[0m\u001b[0mVideoDataset\u001b[0m\u001b[0;34m(\u001b[0m\u001b[0mfilenames\u001b[0m\u001b[0;34m,\u001b[0m \u001b[0msequence_length\u001b[0m\u001b[0;34m,\u001b[0m \u001b[0mdevice_id\u001b[0m\u001b[0;34m=\u001b[0m\u001b[0;36m0\u001b[0m\u001b[0;34m,\u001b[0m \u001b[0mget_label\u001b[0m\u001b[0;34m=\u001b[0m\u001b[0;32mNone\u001b[0m\u001b[0;34m,\u001b[0m \u001b[0mprocessing\u001b[0m\u001b[0;34m=\u001b[0m\u001b[0;32mNone\u001b[0m\u001b[0;34m,\u001b[0m \u001b[0mlog_level\u001b[0m\u001b[0;34m=\u001b[0m\u001b[0;34m'warn'\u001b[0m\u001b[0;34m)\u001b[0m\u001b[0;34m\u001b[0m\u001b[0m\n",
       "\u001b[0;31mDocstring:\u001b[0m     \n",
       "VideoDataset\n",
       "\n",
       "Parameters\n",
       "----------\n",
       "filenames : collection of strings\n",
       "    list of video files to draw from\n",
       "\n",
       "sequence_length : int\n",
       "    how many frames are in each sample\n",
       "\n",
       "device_id : int, optional\n",
       "    GPU device to use (Default: 0)\n",
       "\n",
       "get_label : callable, optional\n",
       "    callable with signature:\n",
       "        (filename : str, frame_num : int) : anything\n",
       "    The returned value is simply passed as an output\n",
       "    alongside any returned frames.\n",
       "    If None, label returned is None. (Default: None)\n",
       "\n",
       "processing : dict {string -> ProcessDesc}, optional\n",
       "    Describes processing to be done on the sequence to generate\n",
       "    each data item. If None, each frame in the sequence will be\n",
       "    returned as is. (Default: None)\n",
       "\n",
       "log_level : string, optional\n",
       "    One of \"debug\", \"info\", \"warn\", \"error\", or \"none\".\n",
       "    (Default: \"warn\")\n",
       "\u001b[0;31mFile:\u001b[0m           /usr/local/lib/python3.6/dist-packages/nvvl-1.0-py3.6-linux-x86_64.egg/nvvl/dataset.py\n",
       "\u001b[0;31mType:\u001b[0m           type\n"
      ]
     },
     "metadata": {},
     "output_type": "display_data"
    }
   ],
   "source": [
    "nvvl.VideoDataset?"
   ]
  },
  {
   "cell_type": "code",
   "execution_count": 1,
   "metadata": {},
   "outputs": [
    {
     "ename": "TypeError",
     "evalue": "<lambda>() takes 2 positional arguments but 3 were given",
     "output_type": "error",
     "traceback": [
      "\u001b[0;31m---------------------------------------------------------------------------\u001b[0m",
      "\u001b[0;31mTypeError\u001b[0m                                 Traceback (most recent call last)",
      "\u001b[0;32m<ipython-input-1-1c7047af5f9c>\u001b[0m in \u001b[0;36m<module>\u001b[0;34m()\u001b[0m\n\u001b[1;32m      1\u001b[0m \u001b[0;32mimport\u001b[0m \u001b[0mnvvl\u001b[0m\u001b[0;34m\u001b[0m\u001b[0m\n\u001b[1;32m      2\u001b[0m \u001b[0md\u001b[0m \u001b[0;34m=\u001b[0m \u001b[0mnvvl\u001b[0m\u001b[0;34m.\u001b[0m\u001b[0mVideoDataset\u001b[0m\u001b[0;34m(\u001b[0m\u001b[0;34m[\u001b[0m\u001b[0;34m'../datasets/activity_net/processed_videos/v_-_gDSRlC1kg.mp4'\u001b[0m\u001b[0;34m]\u001b[0m\u001b[0;34m,\u001b[0m \u001b[0;36m3\u001b[0m\u001b[0;34m,\u001b[0m \u001b[0mprocessing\u001b[0m\u001b[0;34m=\u001b[0m\u001b[0;34m{\u001b[0m\u001b[0;34m'a'\u001b[0m\u001b[0;34m:\u001b[0m \u001b[0mnvvl\u001b[0m\u001b[0;34m.\u001b[0m\u001b[0mProcessDesc\u001b[0m\u001b[0;34m(\u001b[0m\u001b[0;34m)\u001b[0m\u001b[0;34m}\u001b[0m\u001b[0;34m,\u001b[0m \u001b[0mget_label\u001b[0m\u001b[0;34m=\u001b[0m\u001b[0;32mlambda\u001b[0m \u001b[0mx\u001b[0m\u001b[0;34m,\u001b[0m\u001b[0my\u001b[0m\u001b[0;34m:\u001b[0m \u001b[0;34m(\u001b[0m\u001b[0mx\u001b[0m\u001b[0;34m,\u001b[0m\u001b[0my\u001b[0m\u001b[0;34m)\u001b[0m\u001b[0;34m)\u001b[0m\u001b[0;34m\u001b[0m\u001b[0m\n\u001b[0;32m----> 3\u001b[0;31m \u001b[0mfr\u001b[0m \u001b[0;34m=\u001b[0m \u001b[0md\u001b[0m\u001b[0;34m[\u001b[0m\u001b[0;36m0\u001b[0m\u001b[0;34m]\u001b[0m\u001b[0;34m\u001b[0m\u001b[0m\n\u001b[0m\u001b[1;32m      4\u001b[0m \u001b[0mprint\u001b[0m\u001b[0;34m(\u001b[0m\u001b[0mtype\u001b[0m\u001b[0;34m(\u001b[0m\u001b[0mfr\u001b[0m\u001b[0;34m)\u001b[0m\u001b[0;34m)\u001b[0m\u001b[0;34m\u001b[0m\u001b[0m\n\u001b[1;32m      5\u001b[0m \u001b[0mprint\u001b[0m\u001b[0;34m(\u001b[0m\u001b[0mfr\u001b[0m\u001b[0;34m[\u001b[0m\u001b[0;34m'a'\u001b[0m\u001b[0;34m]\u001b[0m\u001b[0;34m.\u001b[0m\u001b[0mshape\u001b[0m\u001b[0;34m)\u001b[0m\u001b[0;34m\u001b[0m\u001b[0m\n",
      "\u001b[0;32m/usr/local/lib/python3.6/dist-packages/nvvl-1.0-py3.6-linux-x86_64.egg/nvvl/dataset.py\u001b[0m in \u001b[0;36m__getitem__\u001b[0;34m(self, index)\u001b[0m\n\u001b[1;32m    385\u001b[0m         \u001b[0mself\u001b[0m\u001b[0;34m.\u001b[0m\u001b[0m_read_sample\u001b[0m\u001b[0;34m(\u001b[0m\u001b[0mindex\u001b[0m\u001b[0;34m)\u001b[0m\u001b[0;34m\u001b[0m\u001b[0m\n\u001b[1;32m    386\u001b[0m         \u001b[0mtensor_map\u001b[0m \u001b[0;34m=\u001b[0m \u001b[0mself\u001b[0m\u001b[0;34m.\u001b[0m\u001b[0m_create_tensor_map\u001b[0m\u001b[0;34m(\u001b[0m\u001b[0;34m)\u001b[0m\u001b[0;34m\u001b[0m\u001b[0m\n\u001b[0;32m--> 387\u001b[0;31m         \u001b[0mseq\u001b[0m\u001b[0;34m,\u001b[0m \u001b[0mlabel\u001b[0m \u001b[0;34m=\u001b[0m \u001b[0mself\u001b[0m\u001b[0;34m.\u001b[0m\u001b[0m_start_receive\u001b[0m\u001b[0;34m(\u001b[0m\u001b[0mtensor_map\u001b[0m\u001b[0;34m)\u001b[0m\u001b[0;34m\u001b[0m\u001b[0m\n\u001b[0m\u001b[1;32m    388\u001b[0m         \u001b[0mself\u001b[0m\u001b[0;34m.\u001b[0m\u001b[0m_finish_receive\u001b[0m\u001b[0;34m(\u001b[0m\u001b[0;32mTrue\u001b[0m\u001b[0;34m)\u001b[0m\u001b[0;34m\u001b[0m\u001b[0m\n\u001b[1;32m    389\u001b[0m \u001b[0;34m\u001b[0m\u001b[0m\n",
      "\u001b[0;32m/usr/local/lib/python3.6/dist-packages/nvvl-1.0-py3.6-linux-x86_64.egg/nvvl/dataset.py\u001b[0m in \u001b[0;36m_start_receive\u001b[0;34m(self, tensor_map, index)\u001b[0m\n\u001b[1;32m    345\u001b[0m         \u001b[0mself\u001b[0m\u001b[0;34m.\u001b[0m\u001b[0mseq_queue\u001b[0m\u001b[0;34m.\u001b[0m\u001b[0mappend\u001b[0m\u001b[0;34m(\u001b[0m\u001b[0mseq\u001b[0m\u001b[0;34m)\u001b[0m\u001b[0;34m\u001b[0m\u001b[0m\n\u001b[1;32m    346\u001b[0m         \u001b[0mlib\u001b[0m\u001b[0;34m.\u001b[0m\u001b[0mnvvl_receive_frames\u001b[0m\u001b[0;34m(\u001b[0m\u001b[0mself\u001b[0m\u001b[0;34m.\u001b[0m\u001b[0mloader\u001b[0m\u001b[0;34m,\u001b[0m \u001b[0mseq\u001b[0m\u001b[0;34m)\u001b[0m\u001b[0;34m\u001b[0m\u001b[0m\n\u001b[0;32m--> 347\u001b[0;31m         \u001b[0;32mreturn\u001b[0m \u001b[0mseq\u001b[0m\u001b[0;34m,\u001b[0m \u001b[0mself\u001b[0m\u001b[0;34m.\u001b[0m\u001b[0mget_label\u001b[0m\u001b[0;34m(\u001b[0m\u001b[0mfilename\u001b[0m\u001b[0;34m,\u001b[0m \u001b[0mframe\u001b[0m\u001b[0;34m,\u001b[0m \u001b[0mrand_changes\u001b[0m\u001b[0;34m)\u001b[0m\u001b[0;34m\u001b[0m\u001b[0m\n\u001b[0m\u001b[1;32m    348\u001b[0m \u001b[0;34m\u001b[0m\u001b[0m\n\u001b[1;32m    349\u001b[0m     \u001b[0;32mdef\u001b[0m \u001b[0m_finish_receive\u001b[0m\u001b[0;34m(\u001b[0m\u001b[0mself\u001b[0m\u001b[0;34m,\u001b[0m \u001b[0msynchronous\u001b[0m\u001b[0;34m=\u001b[0m\u001b[0;32mFalse\u001b[0m\u001b[0;34m)\u001b[0m\u001b[0;34m:\u001b[0m\u001b[0;34m\u001b[0m\u001b[0m\n",
      "\u001b[0;31mTypeError\u001b[0m: <lambda>() takes 2 positional arguments but 3 were given"
     ]
    }
   ],
   "source": [
    "import nvvl\n",
    "def get_label(x,y,z):\n",
    "    return 1\n",
    "d = nvvl.VideoDataset(['../datasets/activity_net/processed_videos/v_-_gDSRlC1kg.mp4'], 3, processing={'a': nvvl.ProcessDesc()}, get_label=lambda x,y: (x,y))\n",
    "fr = d[0]\n",
    "print(type(fr))\n",
    "print(fr['a'].shape)\n",
    "print(fr['labels'])\n",
    "for x in [50, 121, 31, 50]:\n",
    "  print(d[x]['labels'])"
   ]
  },
  {
   "cell_type": "code",
   "execution_count": null,
   "metadata": {},
   "outputs": [],
   "source": []
  }
 ],
 "metadata": {
  "kernelspec": {
   "display_name": "Python 3",
   "language": "python",
   "name": "python3"
  },
  "language_info": {
   "codemirror_mode": {
    "name": "ipython",
    "version": 3
   },
   "file_extension": ".py",
   "mimetype": "text/x-python",
   "name": "python",
   "nbconvert_exporter": "python",
   "pygments_lexer": "ipython3",
   "version": "3.6.6"
  }
 },
 "nbformat": 4,
 "nbformat_minor": 2
}
