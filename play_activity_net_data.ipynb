{
 "cells": [
  {
   "cell_type": "code",
   "execution_count": 61,
   "metadata": {},
   "outputs": [],
   "source": [
    "import json\n",
    "import csv\n",
    "import os"
   ]
  },
  {
   "cell_type": "code",
   "execution_count": 18,
   "metadata": {},
   "outputs": [],
   "source": [
    "fin = open('../datasets/activity_net/activity_net.v1-3.min.json', 'rb')\n",
    "metadata = json.load(fin)\n",
    "fin.close()"
   ]
  },
  {
   "cell_type": "code",
   "execution_count": 19,
   "metadata": {},
   "outputs": [
    {
     "data": {
      "text/plain": [
       "u'sJFgo9H6zNo'"
      ]
     },
     "execution_count": 19,
     "metadata": {},
     "output_type": "execute_result"
    }
   ],
   "source": [
    "metadata['database'].keys()[0]"
   ]
  },
  {
   "cell_type": "code",
   "execution_count": 20,
   "metadata": {},
   "outputs": [
    {
     "data": {
      "text/plain": [
       "{u'annotations': [{u'label': u'Fun sliding down',\n",
       "   u'segment': [0.01, 123.42336739937599]}],\n",
       " u'duration': 139.042,\n",
       " u'resolution': u'640x360',\n",
       " u'subset': u'training',\n",
       " u'url': u'https://www.youtube.com/watch?v=sJFgo9H6zNo'}"
      ]
     },
     "execution_count": 20,
     "metadata": {},
     "output_type": "execute_result"
    }
   ],
   "source": [
    "metadata['database'][u'sJFgo9H6zNo']"
   ]
  },
  {
   "cell_type": "code",
   "execution_count": 35,
   "metadata": {},
   "outputs": [],
   "source": [
    "diff_segs = {}\n",
    "for k in metadata['database'].keys():\n",
    "    segments = metadata['database'][k]['annotations']\n",
    "    if len(segments) not in diff_segs:\n",
    "        diff_segs[len(segments)] = [k]\n",
    "    else:\n",
    "        diff_segs[len(segments)] += [k]"
   ]
  },
  {
   "cell_type": "code",
   "execution_count": 44,
   "metadata": {},
   "outputs": [
    {
     "data": {
      "text/plain": [
       "{u'annotations': [{u'label': u'Playing ten pins',\n",
       "   u'segment': [25.40789859594384, 49.33572542901717]},\n",
       "  {u'label': u'Playing ten pins',\n",
       "   u'segment': [68.32997971918877, 79.43051794071762]},\n",
       "  {u'label': u'Playing ten pins',\n",
       "   u'segment': [83.13069734789391, 88.31094851794073]},\n",
       "  {u'label': u'Playing ten pins',\n",
       "   u'segment': [98.43722152886114, 110.77271294851793]},\n",
       "  {u'label': u'Playing ten pins',\n",
       "   u'segment': [142.3515709828393, 157.89429017160685]}],\n",
       " u'duration': 158.175,\n",
       " u'resolution': u'320x240',\n",
       " u'subset': u'training',\n",
       " u'url': u'https://www.youtube.com/watch?v=lVMMPkvnid8'}"
      ]
     },
     "execution_count": 44,
     "metadata": {},
     "output_type": "execute_result"
    }
   ],
   "source": [
    "metadata['database'][diff_segs[5][0]]"
   ]
  },
  {
   "cell_type": "code",
   "execution_count": 82,
   "metadata": {},
   "outputs": [],
   "source": [
    "class_map = {}\n",
    "class_id = 0\n",
    "train_labels = []\n",
    "val_labels = []\n",
    "tot_exist = 0\n",
    "for k in metadata['database'].keys():\n",
    "    if os.path.exists('../datasets/activity_net/processed_videos/v_' + k + '.mp4'):\n",
    "        segments = metadata['database'][k]['annotations']\n",
    "        subset = metadata['database'][k]['subset']\n",
    "        for segment in segments:\n",
    "            if segment['label'] not in class_map:\n",
    "                class_map[segment['label']] = class_id\n",
    "                class_id += 1\n",
    "            this_segment_class_id = class_map[segment['label']]\n",
    "            start_frame = int(30 * float(segment['segment'][0]))\n",
    "            end_frame = int(30 * float(segment['segment'][1]))\n",
    "            \n",
    "            if subset == 'training':\n",
    "                train_labels.append(['../datasets/activity_net/processed_videos/v_' + k + '.mp4', segment['label'], \n",
    "                                     this_segment_class_id, start_frame, end_frame, subset])\n",
    "            if subset == 'validation':\n",
    "                val_labels.append(['../datasets/activity_net/processed_videos/v_' + k + '.mp4', segment['label'], \n",
    "                                   this_segment_class_id, start_frame, end_frame, subset])\n",
    "        tot_exist += 1"
   ]
  },
  {
   "cell_type": "code",
   "execution_count": 83,
   "metadata": {},
   "outputs": [],
   "source": [
    "fout = open('../datasets/activity_net/train.csv','w')\n",
    "w = csv.writer(fout)\n",
    "for label in train_labels:\n",
    "    w.writerow(label)\n",
    "    \n",
    "fout.close()\n",
    "\n",
    "fout = open('../datasets/activity_net/val.csv','w')\n",
    "w = csv.writer(fout)\n",
    "for label in val_labels:\n",
    "    w.writerow(label)\n",
    "    \n",
    "fout.close()"
   ]
  },
  {
   "cell_type": "code",
   "execution_count": 79,
   "metadata": {},
   "outputs": [
    {
     "data": {
      "text/plain": [
       "18322"
      ]
     },
     "execution_count": 79,
     "metadata": {},
     "output_type": "execute_result"
    }
   ],
   "source": [
    "tot_exist"
   ]
  },
  {
   "cell_type": "code",
   "execution_count": null,
   "metadata": {},
   "outputs": [],
   "source": []
  }
 ],
 "metadata": {
  "kernelspec": {
   "display_name": "Python 2",
   "language": "python",
   "name": "python2"
  },
  "language_info": {
   "codemirror_mode": {
    "name": "ipython",
    "version": 2
   },
   "file_extension": ".py",
   "mimetype": "text/x-python",
   "name": "python",
   "nbconvert_exporter": "python",
   "pygments_lexer": "ipython2",
   "version": "2.7.15rc1"
  }
 },
 "nbformat": 4,
 "nbformat_minor": 2
}
